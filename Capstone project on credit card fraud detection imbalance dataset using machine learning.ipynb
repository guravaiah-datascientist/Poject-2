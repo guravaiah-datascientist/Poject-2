{
 "cells": [
  {
   "cell_type": "code",
   "execution_count": 1,
   "id": "e31d32a8",
   "metadata": {},
   "outputs": [],
   "source": [
    "#import the libraries\n",
    "import pandas as pd\n",
    "import matplotlib.pyplot as plt\n",
    "import seaborn as sns\n",
    "import warnings\n",
    "warnings.simplefilter('ignore')"
   ]
  },
  {
   "cell_type": "code",
   "execution_count": 2,
   "id": "bdbbc851",
   "metadata": {},
   "outputs": [],
   "source": [
    "#load the data\n",
    "df=pd.read_csv('credit_card_fraud_data.csv')"
   ]
  },
  {
   "cell_type": "code",
   "execution_count": 3,
   "id": "a96ec979",
   "metadata": {},
   "outputs": [
    {
     "data": {
      "text/html": [
       "<div>\n",
       "<style scoped>\n",
       "    .dataframe tbody tr th:only-of-type {\n",
       "        vertical-align: middle;\n",
       "    }\n",
       "\n",
       "    .dataframe tbody tr th {\n",
       "        vertical-align: top;\n",
       "    }\n",
       "\n",
       "    .dataframe thead th {\n",
       "        text-align: right;\n",
       "    }\n",
       "</style>\n",
       "<table border=\"1\" class=\"dataframe\">\n",
       "  <thead>\n",
       "    <tr style=\"text-align: right;\">\n",
       "      <th></th>\n",
       "      <th>V1</th>\n",
       "      <th>V2</th>\n",
       "      <th>V3</th>\n",
       "      <th>V4</th>\n",
       "      <th>V5</th>\n",
       "      <th>V6</th>\n",
       "      <th>V7</th>\n",
       "      <th>V8</th>\n",
       "      <th>V9</th>\n",
       "      <th>V10</th>\n",
       "      <th>...</th>\n",
       "      <th>V21</th>\n",
       "      <th>V22</th>\n",
       "      <th>V23</th>\n",
       "      <th>V24</th>\n",
       "      <th>V25</th>\n",
       "      <th>V26</th>\n",
       "      <th>V27</th>\n",
       "      <th>V28</th>\n",
       "      <th>Amount</th>\n",
       "      <th>Class</th>\n",
       "    </tr>\n",
       "  </thead>\n",
       "  <tbody>\n",
       "    <tr>\n",
       "      <th>0</th>\n",
       "      <td>1.176563</td>\n",
       "      <td>0.323798</td>\n",
       "      <td>0.536927</td>\n",
       "      <td>1.047002</td>\n",
       "      <td>-0.368652</td>\n",
       "      <td>-0.728586</td>\n",
       "      <td>0.084678</td>\n",
       "      <td>-0.069246</td>\n",
       "      <td>-0.266389</td>\n",
       "      <td>0.155315</td>\n",
       "      <td>...</td>\n",
       "      <td>-0.109627</td>\n",
       "      <td>-0.341365</td>\n",
       "      <td>0.057845</td>\n",
       "      <td>0.499180</td>\n",
       "      <td>0.415211</td>\n",
       "      <td>-0.581949</td>\n",
       "      <td>0.015472</td>\n",
       "      <td>0.018065</td>\n",
       "      <td>4.67</td>\n",
       "      <td>0</td>\n",
       "    </tr>\n",
       "    <tr>\n",
       "      <th>1</th>\n",
       "      <td>0.681109</td>\n",
       "      <td>-3.934776</td>\n",
       "      <td>-3.801827</td>\n",
       "      <td>-1.147468</td>\n",
       "      <td>-0.735540</td>\n",
       "      <td>-0.501097</td>\n",
       "      <td>1.038865</td>\n",
       "      <td>-0.626979</td>\n",
       "      <td>-2.274423</td>\n",
       "      <td>1.527782</td>\n",
       "      <td>...</td>\n",
       "      <td>0.652202</td>\n",
       "      <td>0.272684</td>\n",
       "      <td>-0.982151</td>\n",
       "      <td>0.165900</td>\n",
       "      <td>0.360251</td>\n",
       "      <td>0.195321</td>\n",
       "      <td>-0.256273</td>\n",
       "      <td>0.056501</td>\n",
       "      <td>912.00</td>\n",
       "      <td>0</td>\n",
       "    </tr>\n",
       "    <tr>\n",
       "      <th>2</th>\n",
       "      <td>1.140729</td>\n",
       "      <td>0.453484</td>\n",
       "      <td>0.247010</td>\n",
       "      <td>2.383132</td>\n",
       "      <td>0.343287</td>\n",
       "      <td>0.432804</td>\n",
       "      <td>0.093380</td>\n",
       "      <td>0.173310</td>\n",
       "      <td>-0.808999</td>\n",
       "      <td>0.775436</td>\n",
       "      <td>...</td>\n",
       "      <td>-0.003802</td>\n",
       "      <td>0.058556</td>\n",
       "      <td>-0.121177</td>\n",
       "      <td>-0.304215</td>\n",
       "      <td>0.645893</td>\n",
       "      <td>0.122600</td>\n",
       "      <td>-0.012115</td>\n",
       "      <td>-0.005945</td>\n",
       "      <td>1.00</td>\n",
       "      <td>0</td>\n",
       "    </tr>\n",
       "    <tr>\n",
       "      <th>3</th>\n",
       "      <td>-1.107073</td>\n",
       "      <td>-3.298902</td>\n",
       "      <td>-0.184092</td>\n",
       "      <td>-1.795744</td>\n",
       "      <td>2.137564</td>\n",
       "      <td>-1.684992</td>\n",
       "      <td>-2.015606</td>\n",
       "      <td>-0.007181</td>\n",
       "      <td>-0.165760</td>\n",
       "      <td>0.869659</td>\n",
       "      <td>...</td>\n",
       "      <td>0.130648</td>\n",
       "      <td>0.329445</td>\n",
       "      <td>0.927656</td>\n",
       "      <td>-0.049560</td>\n",
       "      <td>-1.892866</td>\n",
       "      <td>-0.575431</td>\n",
       "      <td>0.266573</td>\n",
       "      <td>0.414184</td>\n",
       "      <td>62.10</td>\n",
       "      <td>0</td>\n",
       "    </tr>\n",
       "    <tr>\n",
       "      <th>4</th>\n",
       "      <td>-0.314818</td>\n",
       "      <td>0.866839</td>\n",
       "      <td>-0.124577</td>\n",
       "      <td>-0.627638</td>\n",
       "      <td>2.651762</td>\n",
       "      <td>3.428128</td>\n",
       "      <td>0.194637</td>\n",
       "      <td>0.670674</td>\n",
       "      <td>-0.442658</td>\n",
       "      <td>0.133499</td>\n",
       "      <td>...</td>\n",
       "      <td>-0.312774</td>\n",
       "      <td>-0.799494</td>\n",
       "      <td>-0.064488</td>\n",
       "      <td>0.953062</td>\n",
       "      <td>-0.429550</td>\n",
       "      <td>0.158225</td>\n",
       "      <td>0.076943</td>\n",
       "      <td>-0.015051</td>\n",
       "      <td>2.67</td>\n",
       "      <td>0</td>\n",
       "    </tr>\n",
       "    <tr>\n",
       "      <th>...</th>\n",
       "      <td>...</td>\n",
       "      <td>...</td>\n",
       "      <td>...</td>\n",
       "      <td>...</td>\n",
       "      <td>...</td>\n",
       "      <td>...</td>\n",
       "      <td>...</td>\n",
       "      <td>...</td>\n",
       "      <td>...</td>\n",
       "      <td>...</td>\n",
       "      <td>...</td>\n",
       "      <td>...</td>\n",
       "      <td>...</td>\n",
       "      <td>...</td>\n",
       "      <td>...</td>\n",
       "      <td>...</td>\n",
       "      <td>...</td>\n",
       "      <td>...</td>\n",
       "      <td>...</td>\n",
       "      <td>...</td>\n",
       "      <td>...</td>\n",
       "    </tr>\n",
       "    <tr>\n",
       "      <th>21688</th>\n",
       "      <td>-3.959670</td>\n",
       "      <td>3.297819</td>\n",
       "      <td>-1.079436</td>\n",
       "      <td>-2.290106</td>\n",
       "      <td>-1.405133</td>\n",
       "      <td>2.452586</td>\n",
       "      <td>-4.649235</td>\n",
       "      <td>-12.365464</td>\n",
       "      <td>0.409493</td>\n",
       "      <td>1.251992</td>\n",
       "      <td>...</td>\n",
       "      <td>12.617463</td>\n",
       "      <td>-2.969195</td>\n",
       "      <td>1.755050</td>\n",
       "      <td>0.433324</td>\n",
       "      <td>-0.010827</td>\n",
       "      <td>-0.126613</td>\n",
       "      <td>0.200111</td>\n",
       "      <td>-0.160542</td>\n",
       "      <td>29.95</td>\n",
       "      <td>0</td>\n",
       "    </tr>\n",
       "    <tr>\n",
       "      <th>21689</th>\n",
       "      <td>-1.066503</td>\n",
       "      <td>0.539240</td>\n",
       "      <td>0.735343</td>\n",
       "      <td>-0.506800</td>\n",
       "      <td>0.843980</td>\n",
       "      <td>-1.047877</td>\n",
       "      <td>1.141302</td>\n",
       "      <td>-0.127448</td>\n",
       "      <td>-0.119221</td>\n",
       "      <td>-1.870265</td>\n",
       "      <td>...</td>\n",
       "      <td>-0.162535</td>\n",
       "      <td>-0.576352</td>\n",
       "      <td>-0.184969</td>\n",
       "      <td>-0.136154</td>\n",
       "      <td>0.760012</td>\n",
       "      <td>0.048105</td>\n",
       "      <td>-0.017475</td>\n",
       "      <td>0.092365</td>\n",
       "      <td>85.66</td>\n",
       "      <td>0</td>\n",
       "    </tr>\n",
       "    <tr>\n",
       "      <th>21690</th>\n",
       "      <td>-2.175162</td>\n",
       "      <td>-0.441681</td>\n",
       "      <td>1.883137</td>\n",
       "      <td>-0.267440</td>\n",
       "      <td>1.056972</td>\n",
       "      <td>0.136404</td>\n",
       "      <td>0.113595</td>\n",
       "      <td>-0.055983</td>\n",
       "      <td>0.765616</td>\n",
       "      <td>-0.087568</td>\n",
       "      <td>...</td>\n",
       "      <td>-0.201561</td>\n",
       "      <td>0.397761</td>\n",
       "      <td>-0.855500</td>\n",
       "      <td>-0.627900</td>\n",
       "      <td>0.590977</td>\n",
       "      <td>0.515065</td>\n",
       "      <td>0.433089</td>\n",
       "      <td>-0.150291</td>\n",
       "      <td>131.10</td>\n",
       "      <td>0</td>\n",
       "    </tr>\n",
       "    <tr>\n",
       "      <th>21691</th>\n",
       "      <td>0.031406</td>\n",
       "      <td>0.694817</td>\n",
       "      <td>0.083233</td>\n",
       "      <td>-0.797912</td>\n",
       "      <td>0.564318</td>\n",
       "      <td>-0.560787</td>\n",
       "      <td>0.805901</td>\n",
       "      <td>0.051453</td>\n",
       "      <td>-0.053817</td>\n",
       "      <td>-0.200190</td>\n",
       "      <td>...</td>\n",
       "      <td>-0.255891</td>\n",
       "      <td>-0.664635</td>\n",
       "      <td>0.018844</td>\n",
       "      <td>-0.539177</td>\n",
       "      <td>-0.504019</td>\n",
       "      <td>0.155133</td>\n",
       "      <td>0.232846</td>\n",
       "      <td>0.079420</td>\n",
       "      <td>4.49</td>\n",
       "      <td>0</td>\n",
       "    </tr>\n",
       "    <tr>\n",
       "      <th>21692</th>\n",
       "      <td>-0.312369</td>\n",
       "      <td>0.944738</td>\n",
       "      <td>1.430605</td>\n",
       "      <td>0.627951</td>\n",
       "      <td>0.317725</td>\n",
       "      <td>-0.180406</td>\n",
       "      <td>0.793108</td>\n",
       "      <td>-0.104993</td>\n",
       "      <td>-0.493956</td>\n",
       "      <td>0.344477</td>\n",
       "      <td>...</td>\n",
       "      <td>0.118417</td>\n",
       "      <td>0.609081</td>\n",
       "      <td>-0.270644</td>\n",
       "      <td>0.004333</td>\n",
       "      <td>-0.114185</td>\n",
       "      <td>-0.287989</td>\n",
       "      <td>0.232375</td>\n",
       "      <td>-0.023563</td>\n",
       "      <td>14.90</td>\n",
       "      <td>0</td>\n",
       "    </tr>\n",
       "  </tbody>\n",
       "</table>\n",
       "<p>21693 rows × 30 columns</p>\n",
       "</div>"
      ],
      "text/plain": [
       "             V1        V2        V3        V4        V5        V6        V7  \\\n",
       "0      1.176563  0.323798  0.536927  1.047002 -0.368652 -0.728586  0.084678   \n",
       "1      0.681109 -3.934776 -3.801827 -1.147468 -0.735540 -0.501097  1.038865   \n",
       "2      1.140729  0.453484  0.247010  2.383132  0.343287  0.432804  0.093380   \n",
       "3     -1.107073 -3.298902 -0.184092 -1.795744  2.137564 -1.684992 -2.015606   \n",
       "4     -0.314818  0.866839 -0.124577 -0.627638  2.651762  3.428128  0.194637   \n",
       "...         ...       ...       ...       ...       ...       ...       ...   \n",
       "21688 -3.959670  3.297819 -1.079436 -2.290106 -1.405133  2.452586 -4.649235   \n",
       "21689 -1.066503  0.539240  0.735343 -0.506800  0.843980 -1.047877  1.141302   \n",
       "21690 -2.175162 -0.441681  1.883137 -0.267440  1.056972  0.136404  0.113595   \n",
       "21691  0.031406  0.694817  0.083233 -0.797912  0.564318 -0.560787  0.805901   \n",
       "21692 -0.312369  0.944738  1.430605  0.627951  0.317725 -0.180406  0.793108   \n",
       "\n",
       "              V8        V9       V10  ...        V21       V22       V23  \\\n",
       "0      -0.069246 -0.266389  0.155315  ...  -0.109627 -0.341365  0.057845   \n",
       "1      -0.626979 -2.274423  1.527782  ...   0.652202  0.272684 -0.982151   \n",
       "2       0.173310 -0.808999  0.775436  ...  -0.003802  0.058556 -0.121177   \n",
       "3      -0.007181 -0.165760  0.869659  ...   0.130648  0.329445  0.927656   \n",
       "4       0.670674 -0.442658  0.133499  ...  -0.312774 -0.799494 -0.064488   \n",
       "...          ...       ...       ...  ...        ...       ...       ...   \n",
       "21688 -12.365464  0.409493  1.251992  ...  12.617463 -2.969195  1.755050   \n",
       "21689  -0.127448 -0.119221 -1.870265  ...  -0.162535 -0.576352 -0.184969   \n",
       "21690  -0.055983  0.765616 -0.087568  ...  -0.201561  0.397761 -0.855500   \n",
       "21691   0.051453 -0.053817 -0.200190  ...  -0.255891 -0.664635  0.018844   \n",
       "21692  -0.104993 -0.493956  0.344477  ...   0.118417  0.609081 -0.270644   \n",
       "\n",
       "            V24       V25       V26       V27       V28  Amount  Class  \n",
       "0      0.499180  0.415211 -0.581949  0.015472  0.018065    4.67      0  \n",
       "1      0.165900  0.360251  0.195321 -0.256273  0.056501  912.00      0  \n",
       "2     -0.304215  0.645893  0.122600 -0.012115 -0.005945    1.00      0  \n",
       "3     -0.049560 -1.892866 -0.575431  0.266573  0.414184   62.10      0  \n",
       "4      0.953062 -0.429550  0.158225  0.076943 -0.015051    2.67      0  \n",
       "...         ...       ...       ...       ...       ...     ...    ...  \n",
       "21688  0.433324 -0.010827 -0.126613  0.200111 -0.160542   29.95      0  \n",
       "21689 -0.136154  0.760012  0.048105 -0.017475  0.092365   85.66      0  \n",
       "21690 -0.627900  0.590977  0.515065  0.433089 -0.150291  131.10      0  \n",
       "21691 -0.539177 -0.504019  0.155133  0.232846  0.079420    4.49      0  \n",
       "21692  0.004333 -0.114185 -0.287989  0.232375 -0.023563   14.90      0  \n",
       "\n",
       "[21693 rows x 30 columns]"
      ]
     },
     "execution_count": 3,
     "metadata": {},
     "output_type": "execute_result"
    }
   ],
   "source": [
    "df"
   ]
  },
  {
   "cell_type": "code",
   "execution_count": 4,
   "id": "2ac76b4a",
   "metadata": {},
   "outputs": [
    {
     "data": {
      "text/plain": [
       "(21693, 30)"
      ]
     },
     "execution_count": 4,
     "metadata": {},
     "output_type": "execute_result"
    }
   ],
   "source": [
    "df.shape"
   ]
  },
  {
   "cell_type": "code",
   "execution_count": 5,
   "id": "b681ccde",
   "metadata": {},
   "outputs": [
    {
     "name": "stdout",
     "output_type": "stream",
     "text": [
      "<class 'pandas.core.frame.DataFrame'>\n",
      "RangeIndex: 21693 entries, 0 to 21692\n",
      "Data columns (total 30 columns):\n",
      " #   Column  Non-Null Count  Dtype  \n",
      "---  ------  --------------  -----  \n",
      " 0   V1      21693 non-null  float64\n",
      " 1   V2      21693 non-null  float64\n",
      " 2   V3      21693 non-null  float64\n",
      " 3   V4      21693 non-null  float64\n",
      " 4   V5      21693 non-null  float64\n",
      " 5   V6      21693 non-null  float64\n",
      " 6   V7      21693 non-null  float64\n",
      " 7   V8      21693 non-null  float64\n",
      " 8   V9      21693 non-null  float64\n",
      " 9   V10     21693 non-null  float64\n",
      " 10  V11     21693 non-null  float64\n",
      " 11  V12     21693 non-null  float64\n",
      " 12  V13     21693 non-null  float64\n",
      " 13  V14     21693 non-null  float64\n",
      " 14  V15     21693 non-null  float64\n",
      " 15  V16     21693 non-null  float64\n",
      " 16  V17     21693 non-null  float64\n",
      " 17  V18     21693 non-null  float64\n",
      " 18  V19     21693 non-null  float64\n",
      " 19  V20     21693 non-null  float64\n",
      " 20  V21     21693 non-null  float64\n",
      " 21  V22     21693 non-null  float64\n",
      " 22  V23     21693 non-null  float64\n",
      " 23  V24     21693 non-null  float64\n",
      " 24  V25     21693 non-null  float64\n",
      " 25  V26     21693 non-null  float64\n",
      " 26  V27     21693 non-null  float64\n",
      " 27  V28     21693 non-null  float64\n",
      " 28  Amount  21693 non-null  float64\n",
      " 29  Class   21693 non-null  int64  \n",
      "dtypes: float64(29), int64(1)\n",
      "memory usage: 5.0 MB\n"
     ]
    }
   ],
   "source": [
    "df.info()"
   ]
  },
  {
   "cell_type": "code",
   "execution_count": 6,
   "id": "c7468c19",
   "metadata": {},
   "outputs": [
    {
     "data": {
      "text/plain": [
       "V1        0\n",
       "V2        0\n",
       "V3        0\n",
       "V4        0\n",
       "V5        0\n",
       "V6        0\n",
       "V7        0\n",
       "V8        0\n",
       "V9        0\n",
       "V10       0\n",
       "V11       0\n",
       "V12       0\n",
       "V13       0\n",
       "V14       0\n",
       "V15       0\n",
       "V16       0\n",
       "V17       0\n",
       "V18       0\n",
       "V19       0\n",
       "V20       0\n",
       "V21       0\n",
       "V22       0\n",
       "V23       0\n",
       "V24       0\n",
       "V25       0\n",
       "V26       0\n",
       "V27       0\n",
       "V28       0\n",
       "Amount    0\n",
       "Class     0\n",
       "dtype: int64"
      ]
     },
     "execution_count": 6,
     "metadata": {},
     "output_type": "execute_result"
    }
   ],
   "source": [
    "# check the null values\n",
    "df.isnull().sum()"
   ]
  },
  {
   "cell_type": "code",
   "execution_count": 7,
   "id": "4240b204",
   "metadata": {},
   "outputs": [
    {
     "data": {
      "text/plain": [
       "143"
      ]
     },
     "execution_count": 7,
     "metadata": {},
     "output_type": "execute_result"
    }
   ],
   "source": [
    "#check the duplicated values\n",
    "df.duplicated().sum()"
   ]
  },
  {
   "cell_type": "code",
   "execution_count": 8,
   "id": "24693b4e",
   "metadata": {},
   "outputs": [],
   "source": [
    "df.drop_duplicates(inplace=True)"
   ]
  },
  {
   "cell_type": "code",
   "execution_count": 9,
   "id": "341d4c50",
   "metadata": {},
   "outputs": [],
   "source": [
    "df.reset_index(inplace=True)"
   ]
  },
  {
   "cell_type": "code",
   "execution_count": 10,
   "id": "688cd805",
   "metadata": {},
   "outputs": [],
   "source": [
    "# applying the standard scaling to the Amount column\n",
    "from sklearn.preprocessing import StandardScaler\n",
    "sc=StandardScaler()\n",
    "df['Amount']=sc.fit_transform(pd.DataFrame(df['Amount']))"
   ]
  },
  {
   "cell_type": "code",
   "execution_count": 11,
   "id": "61eeb46d",
   "metadata": {},
   "outputs": [
    {
     "data": {
      "text/html": [
       "<div>\n",
       "<style scoped>\n",
       "    .dataframe tbody tr th:only-of-type {\n",
       "        vertical-align: middle;\n",
       "    }\n",
       "\n",
       "    .dataframe tbody tr th {\n",
       "        vertical-align: top;\n",
       "    }\n",
       "\n",
       "    .dataframe thead th {\n",
       "        text-align: right;\n",
       "    }\n",
       "</style>\n",
       "<table border=\"1\" class=\"dataframe\">\n",
       "  <thead>\n",
       "    <tr style=\"text-align: right;\">\n",
       "      <th></th>\n",
       "      <th>index</th>\n",
       "      <th>V1</th>\n",
       "      <th>V2</th>\n",
       "      <th>V3</th>\n",
       "      <th>V4</th>\n",
       "      <th>V5</th>\n",
       "      <th>V6</th>\n",
       "      <th>V7</th>\n",
       "      <th>V8</th>\n",
       "      <th>V9</th>\n",
       "      <th>...</th>\n",
       "      <th>V21</th>\n",
       "      <th>V22</th>\n",
       "      <th>V23</th>\n",
       "      <th>V24</th>\n",
       "      <th>V25</th>\n",
       "      <th>V26</th>\n",
       "      <th>V27</th>\n",
       "      <th>V28</th>\n",
       "      <th>Amount</th>\n",
       "      <th>Class</th>\n",
       "    </tr>\n",
       "  </thead>\n",
       "  <tbody>\n",
       "    <tr>\n",
       "      <th>0</th>\n",
       "      <td>0</td>\n",
       "      <td>1.176563</td>\n",
       "      <td>0.323798</td>\n",
       "      <td>0.536927</td>\n",
       "      <td>1.047002</td>\n",
       "      <td>-0.368652</td>\n",
       "      <td>-0.728586</td>\n",
       "      <td>0.084678</td>\n",
       "      <td>-0.069246</td>\n",
       "      <td>-0.266389</td>\n",
       "      <td>...</td>\n",
       "      <td>-0.109627</td>\n",
       "      <td>-0.341365</td>\n",
       "      <td>0.057845</td>\n",
       "      <td>0.499180</td>\n",
       "      <td>0.415211</td>\n",
       "      <td>-0.581949</td>\n",
       "      <td>0.015472</td>\n",
       "      <td>0.018065</td>\n",
       "      <td>-0.349316</td>\n",
       "      <td>0</td>\n",
       "    </tr>\n",
       "    <tr>\n",
       "      <th>1</th>\n",
       "      <td>1</td>\n",
       "      <td>0.681109</td>\n",
       "      <td>-3.934776</td>\n",
       "      <td>-3.801827</td>\n",
       "      <td>-1.147468</td>\n",
       "      <td>-0.735540</td>\n",
       "      <td>-0.501097</td>\n",
       "      <td>1.038865</td>\n",
       "      <td>-0.626979</td>\n",
       "      <td>-2.274423</td>\n",
       "      <td>...</td>\n",
       "      <td>0.652202</td>\n",
       "      <td>0.272684</td>\n",
       "      <td>-0.982151</td>\n",
       "      <td>0.165900</td>\n",
       "      <td>0.360251</td>\n",
       "      <td>0.195321</td>\n",
       "      <td>-0.256273</td>\n",
       "      <td>0.056501</td>\n",
       "      <td>3.490903</td>\n",
       "      <td>0</td>\n",
       "    </tr>\n",
       "    <tr>\n",
       "      <th>2</th>\n",
       "      <td>2</td>\n",
       "      <td>1.140729</td>\n",
       "      <td>0.453484</td>\n",
       "      <td>0.247010</td>\n",
       "      <td>2.383132</td>\n",
       "      <td>0.343287</td>\n",
       "      <td>0.432804</td>\n",
       "      <td>0.093380</td>\n",
       "      <td>0.173310</td>\n",
       "      <td>-0.808999</td>\n",
       "      <td>...</td>\n",
       "      <td>-0.003802</td>\n",
       "      <td>0.058556</td>\n",
       "      <td>-0.121177</td>\n",
       "      <td>-0.304215</td>\n",
       "      <td>0.645893</td>\n",
       "      <td>0.122600</td>\n",
       "      <td>-0.012115</td>\n",
       "      <td>-0.005945</td>\n",
       "      <td>-0.364849</td>\n",
       "      <td>0</td>\n",
       "    </tr>\n",
       "    <tr>\n",
       "      <th>3</th>\n",
       "      <td>3</td>\n",
       "      <td>-1.107073</td>\n",
       "      <td>-3.298902</td>\n",
       "      <td>-0.184092</td>\n",
       "      <td>-1.795744</td>\n",
       "      <td>2.137564</td>\n",
       "      <td>-1.684992</td>\n",
       "      <td>-2.015606</td>\n",
       "      <td>-0.007181</td>\n",
       "      <td>-0.165760</td>\n",
       "      <td>...</td>\n",
       "      <td>0.130648</td>\n",
       "      <td>0.329445</td>\n",
       "      <td>0.927656</td>\n",
       "      <td>-0.049560</td>\n",
       "      <td>-1.892866</td>\n",
       "      <td>-0.575431</td>\n",
       "      <td>0.266573</td>\n",
       "      <td>0.414184</td>\n",
       "      <td>-0.106247</td>\n",
       "      <td>0</td>\n",
       "    </tr>\n",
       "    <tr>\n",
       "      <th>4</th>\n",
       "      <td>4</td>\n",
       "      <td>-0.314818</td>\n",
       "      <td>0.866839</td>\n",
       "      <td>-0.124577</td>\n",
       "      <td>-0.627638</td>\n",
       "      <td>2.651762</td>\n",
       "      <td>3.428128</td>\n",
       "      <td>0.194637</td>\n",
       "      <td>0.670674</td>\n",
       "      <td>-0.442658</td>\n",
       "      <td>...</td>\n",
       "      <td>-0.312774</td>\n",
       "      <td>-0.799494</td>\n",
       "      <td>-0.064488</td>\n",
       "      <td>0.953062</td>\n",
       "      <td>-0.429550</td>\n",
       "      <td>0.158225</td>\n",
       "      <td>0.076943</td>\n",
       "      <td>-0.015051</td>\n",
       "      <td>-0.357781</td>\n",
       "      <td>0</td>\n",
       "    </tr>\n",
       "  </tbody>\n",
       "</table>\n",
       "<p>5 rows × 31 columns</p>\n",
       "</div>"
      ],
      "text/plain": [
       "   index        V1        V2        V3        V4        V5        V6  \\\n",
       "0      0  1.176563  0.323798  0.536927  1.047002 -0.368652 -0.728586   \n",
       "1      1  0.681109 -3.934776 -3.801827 -1.147468 -0.735540 -0.501097   \n",
       "2      2  1.140729  0.453484  0.247010  2.383132  0.343287  0.432804   \n",
       "3      3 -1.107073 -3.298902 -0.184092 -1.795744  2.137564 -1.684992   \n",
       "4      4 -0.314818  0.866839 -0.124577 -0.627638  2.651762  3.428128   \n",
       "\n",
       "         V7        V8        V9  ...       V21       V22       V23       V24  \\\n",
       "0  0.084678 -0.069246 -0.266389  ... -0.109627 -0.341365  0.057845  0.499180   \n",
       "1  1.038865 -0.626979 -2.274423  ...  0.652202  0.272684 -0.982151  0.165900   \n",
       "2  0.093380  0.173310 -0.808999  ... -0.003802  0.058556 -0.121177 -0.304215   \n",
       "3 -2.015606 -0.007181 -0.165760  ...  0.130648  0.329445  0.927656 -0.049560   \n",
       "4  0.194637  0.670674 -0.442658  ... -0.312774 -0.799494 -0.064488  0.953062   \n",
       "\n",
       "        V25       V26       V27       V28    Amount  Class  \n",
       "0  0.415211 -0.581949  0.015472  0.018065 -0.349316      0  \n",
       "1  0.360251  0.195321 -0.256273  0.056501  3.490903      0  \n",
       "2  0.645893  0.122600 -0.012115 -0.005945 -0.364849      0  \n",
       "3 -1.892866 -0.575431  0.266573  0.414184 -0.106247      0  \n",
       "4 -0.429550  0.158225  0.076943 -0.015051 -0.357781      0  \n",
       "\n",
       "[5 rows x 31 columns]"
      ]
     },
     "execution_count": 11,
     "metadata": {},
     "output_type": "execute_result"
    }
   ],
   "source": [
    "df.head()"
   ]
  },
  {
   "cell_type": "code",
   "execution_count": 14,
   "id": "44ab1695",
   "metadata": {},
   "outputs": [
    {
     "data": {
      "text/plain": [
       "0    21204\n",
       "1      346\n",
       "Name: Class, dtype: int64"
      ]
     },
     "execution_count": 14,
     "metadata": {},
     "output_type": "execute_result"
    }
   ],
   "source": [
    "# categories of the Class column, so it is a IMBALANCE dataset\n",
    "df['Class'].value_counts()"
   ]
  },
  {
   "cell_type": "code",
   "execution_count": 15,
   "id": "a92d77f5",
   "metadata": {},
   "outputs": [
    {
     "data": {
      "image/png": "[encoded data removed]",
      "text/plain": [
       "<Figure size 640x480 with 1 Axes>"
      ]
     },
     "metadata": {},
     "output_type": "display_data"
    }
   ],
   "source": [
    "# visualization of the class column\n",
    "sns.countplot(df['Class'])\n",
    "plt.show()"
   ]
  },
  {
   "cell_type": "markdown",
   "id": "dbd2f212",
   "metadata": {},
   "source": [
    "**Random Under Sampling**"
   ]
  },
  {
   "cell_type": "code",
   "execution_count": 16,
   "id": "fd16bf5e",
   "metadata": {},
   "outputs": [],
   "source": [
    "x=df.drop('Class',axis=1)\n",
    "y=df['Class']"
   ]
  },
  {
   "cell_type": "code",
   "execution_count": 17,
   "id": "add0b22f",
   "metadata": {},
   "outputs": [
    {
     "name": "stdout",
     "output_type": "stream",
     "text": [
      "After under sampling dataset shape\n",
      "==================================\n"
     ]
    },
    {
     "data": {
      "text/plain": [
       "0    346\n",
       "1    346\n",
       "Name: Class, dtype: int64"
      ]
     },
     "execution_count": 17,
     "metadata": {},
     "output_type": "execute_result"
    }
   ],
   "source": [
    "# apply the RandomUnderSampling to the dataset\n",
    "from imblearn.under_sampling import RandomUnderSampler\n",
    "rus=RandomUnderSampler(random_state=42)\n",
    "x_rus,y_rus=rus.fit_resample(x,y)\n",
    "\n",
    "print('After under sampling dataset shape')\n",
    "print('==================================')\n",
    "y_rus.value_counts()"
   ]
  },
  {
   "cell_type": "code",
   "execution_count": 18,
   "id": "b5194357",
   "metadata": {},
   "outputs": [],
   "source": [
    "# train_test split\n",
    "from sklearn.model_selection import train_test_split\n",
    "x_train,x_test,y_train,y_test=train_test_split(x_rus,y_rus,test_size=0.2,random_state=42)"
   ]
  },
  {
   "cell_type": "code",
   "execution_count": 19,
   "id": "e35e3692",
   "metadata": {},
   "outputs": [
    {
     "name": "stdout",
     "output_type": "stream",
     "text": [
      "train accuracy: 0.9421338155515371\n",
      "test accuracy: 0.9064748201438849\n",
      "cross validation score: 0.92767177562298\n"
     ]
    }
   ],
   "source": [
    "#modeling & evaluation\n",
    "from sklearn.linear_model import LogisticRegression\n",
    "LR=LogisticRegression()\n",
    "LR.fit(x_train,y_train)\n",
    "\n",
    "#prediction\n",
    "ypred_train=LR.predict(x_train)\n",
    "ypred_test1=LR.predict(x_test)\n",
    "\n",
    "# train & test accuracy\n",
    "from sklearn.metrics import accuracy_score\n",
    "print('train accuracy:',accuracy_score(y_train,ypred_train))\n",
    "print('test accuracy:',accuracy_score(y_test,ypred_test1))\n",
    "\n",
    "# cross validation score\n",
    "from sklearn.model_selection import cross_val_score\n",
    "score=cross_val_score(LR,x_rus,y_rus,cv=5)\n",
    "print('cross validation score:',score.mean())"
   ]
  },
  {
   "cell_type": "code",
   "execution_count": 20,
   "id": "5a535a3a",
   "metadata": {},
   "outputs": [
    {
     "name": "stdout",
     "output_type": "stream",
     "text": [
      "              precision    recall  f1-score   support\n",
      "\n",
      "           0       0.91      0.92      0.92        77\n",
      "           1       0.90      0.89      0.89        62\n",
      "\n",
      "    accuracy                           0.91       139\n",
      "   macro avg       0.91      0.90      0.91       139\n",
      "weighted avg       0.91      0.91      0.91       139\n",
      "\n"
     ]
    }
   ],
   "source": [
    "# classification report\n",
    "from sklearn.metrics import classification_report\n",
    "print(classification_report(y_test,ypred_test1))"
   ]
  },
  {
   "cell_type": "code",
   "execution_count": 21,
   "id": "3d227152",
   "metadata": {},
   "outputs": [
    {
     "name": "stdout",
     "output_type": "stream",
     "text": [
      "train_accuracy: 1.0\n",
      "test_accuracy: 0.8705035971223022\n",
      "cross validation score: 0.908872901678657\n"
     ]
    }
   ],
   "source": [
    "#modeling & evaluation\n",
    "from sklearn.tree import DecisionTreeClassifier\n",
    "DT=DecisionTreeClassifier(random_state=0)\n",
    "DT.fit(x_train,y_train)\n",
    "\n",
    "#prediction\n",
    "ypred_train=DT.predict(x_train)\n",
    "ypred_test2=DT.predict(x_test)\n",
    "\n",
    "# train & test accuracy\n",
    "from sklearn.metrics import accuracy_score\n",
    "print('train_accuracy:',accuracy_score(ypred_train,y_train))\n",
    "print('test_accuracy:',accuracy_score(ypred_test2,y_test))\n",
    "\n",
    "# cross validation score\n",
    "from sklearn.model_selection import cross_val_score\n",
    "score=cross_val_score(DT,x_rus,y_rus,cv=5)\n",
    "print('cross validation score:',score.mean())"
   ]
  },
  {
   "cell_type": "code",
   "execution_count": 22,
   "id": "924c6364",
   "metadata": {},
   "outputs": [
    {
     "name": "stdout",
     "output_type": "stream",
     "text": [
      "              precision    recall  f1-score   support\n",
      "\n",
      "           0       0.90      0.86      0.88        77\n",
      "           1       0.83      0.89      0.86        62\n",
      "\n",
      "    accuracy                           0.87       139\n",
      "   macro avg       0.87      0.87      0.87       139\n",
      "weighted avg       0.87      0.87      0.87       139\n",
      "\n"
     ]
    }
   ],
   "source": [
    "# classification report\n",
    "from sklearn.metrics import classification_report\n",
    "print(classification_report(y_test,ypred_test2))"
   ]
  },
  {
   "cell_type": "code",
   "execution_count": 23,
   "id": "4495132e",
   "metadata": {},
   "outputs": [
    {
     "name": "stdout",
     "output_type": "stream",
     "text": [
      "train_accuracy: 1.0\n",
      "test_accuracy: 0.920863309352518\n",
      "cross validation score: 0.9277239078302575\n"
     ]
    }
   ],
   "source": [
    "#modeling & evaluation\n",
    "from sklearn.ensemble import RandomForestClassifier\n",
    "RF=RandomForestClassifier()\n",
    "RF.fit(x_train,y_train)\n",
    "\n",
    "#prediction\n",
    "ypred_train=RF.predict(x_train)\n",
    "ypred_test3=RF.predict(x_test)\n",
    "\n",
    "# train & test accuracy\n",
    "from sklearn.metrics import accuracy_score\n",
    "print('train_accuracy:',accuracy_score(ypred_train,y_train))\n",
    "print('test_accuracy:',accuracy_score(ypred_test3,y_test))\n",
    "\n",
    "# cross validation score\n",
    "from sklearn.model_selection import cross_val_score\n",
    "score=cross_val_score(RF,x_rus,y_rus,cv=5)\n",
    "print('cross validation score:',score.mean())"
   ]
  },
  {
   "cell_type": "code",
   "execution_count": 24,
   "id": "57b4bc45",
   "metadata": {},
   "outputs": [
    {
     "name": "stdout",
     "output_type": "stream",
     "text": [
      "              precision    recall  f1-score   support\n",
      "\n",
      "           0       0.89      0.97      0.93        77\n",
      "           1       0.96      0.85      0.91        62\n",
      "\n",
      "    accuracy                           0.92       139\n",
      "   macro avg       0.93      0.91      0.92       139\n",
      "weighted avg       0.92      0.92      0.92       139\n",
      "\n"
     ]
    }
   ],
   "source": [
    "# classification report\n",
    "from sklearn.metrics import classification_report\n",
    "print(classification_report(y_test,ypred_test3))"
   ]
  },
  {
   "cell_type": "code",
   "execution_count": 25,
   "id": "3025dcdd",
   "metadata": {},
   "outputs": [
    {
     "name": "stdout",
     "output_type": "stream",
     "text": [
      "train_accuracy: 1.0\n",
      "test_accuracy: 0.920863309352518\n",
      "cross validation score: 0.9233865081847565\n"
     ]
    }
   ],
   "source": [
    "#modeling & evaluation\n",
    "from sklearn.ensemble import GradientBoostingClassifier\n",
    "GB=GradientBoostingClassifier()\n",
    "GB.fit(x_train,y_train)\n",
    "\n",
    "#prediction\n",
    "ypred_train=GB.predict(x_train)\n",
    "ypred_test4=GB.predict(x_test)\n",
    "\n",
    "# train & test accuracy\n",
    "from sklearn.metrics import accuracy_score\n",
    "print('train_accuracy:',accuracy_score(ypred_train,y_train))\n",
    "print('test_accuracy:',accuracy_score(ypred_test4,y_test))\n",
    "\n",
    "# cross validation score\n",
    "from sklearn.model_selection import cross_val_score\n",
    "score=cross_val_score(GB,x_rus,y_rus,cv=5)\n",
    "print('cross validation score:',score.mean())"
   ]
  },
  {
   "cell_type": "code",
   "execution_count": 26,
   "id": "7ff21a29",
   "metadata": {},
   "outputs": [
    {
     "name": "stdout",
     "output_type": "stream",
     "text": [
      "              precision    recall  f1-score   support\n",
      "\n",
      "           0       0.89      0.97      0.93        77\n",
      "           1       0.96      0.85      0.91        62\n",
      "\n",
      "    accuracy                           0.92       139\n",
      "   macro avg       0.93      0.91      0.92       139\n",
      "weighted avg       0.92      0.92      0.92       139\n",
      "\n"
     ]
    }
   ],
   "source": [
    "# classification report\n",
    "from sklearn.metrics import classification_report\n",
    "print(classification_report(y_test,ypred_test4))"
   ]
  },
  {
   "cell_type": "code",
   "execution_count": 27,
   "id": "b3e2aa2d",
   "metadata": {},
   "outputs": [
    {
     "data": {
      "text/html": [
       "<div>\n",
       "<style scoped>\n",
       "    .dataframe tbody tr th:only-of-type {\n",
       "        vertical-align: middle;\n",
       "    }\n",
       "\n",
       "    .dataframe tbody tr th {\n",
       "        vertical-align: top;\n",
       "    }\n",
       "\n",
       "    .dataframe thead th {\n",
       "        text-align: right;\n",
       "    }\n",
       "</style>\n",
       "<table border=\"1\" class=\"dataframe\">\n",
       "  <thead>\n",
       "    <tr style=\"text-align: right;\">\n",
       "      <th></th>\n",
       "      <th>Models</th>\n",
       "      <th>Accuracy</th>\n",
       "    </tr>\n",
       "  </thead>\n",
       "  <tbody>\n",
       "    <tr>\n",
       "      <th>0</th>\n",
       "      <td>LR</td>\n",
       "      <td>90.647482</td>\n",
       "    </tr>\n",
       "    <tr>\n",
       "      <th>1</th>\n",
       "      <td>DT</td>\n",
       "      <td>87.050360</td>\n",
       "    </tr>\n",
       "    <tr>\n",
       "      <th>2</th>\n",
       "      <td>RF</td>\n",
       "      <td>92.086331</td>\n",
       "    </tr>\n",
       "    <tr>\n",
       "      <th>3</th>\n",
       "      <td>GB</td>\n",
       "      <td>92.086331</td>\n",
       "    </tr>\n",
       "  </tbody>\n",
       "</table>\n",
       "</div>"
      ],
      "text/plain": [
       "  Models   Accuracy\n",
       "0     LR  90.647482\n",
       "1     DT  87.050360\n",
       "2     RF  92.086331\n",
       "3     GB  92.086331"
      ]
     },
     "execution_count": 27,
     "metadata": {},
     "output_type": "execute_result"
    }
   ],
   "source": [
    "final_rus_accuracies=pd.DataFrame({'Models':['LR','DT','RF','GB'],\n",
    "                               'Accuracy':[accuracy_score(ypred_test1,y_test)*100,\n",
    "                                          accuracy_score(ypred_test2,y_test)*100,\n",
    "                                          accuracy_score(ypred_test3,y_test)*100,\n",
    "                                          accuracy_score(ypred_test4,y_test)*100,]})\n",
    "final_rus_accuracies"
   ]
  },
  {
   "cell_type": "code",
   "execution_count": 28,
   "id": "160df8e8",
   "metadata": {},
   "outputs": [
    {
     "data": {
      "image/png": "[encoded data removed]",
      "text/plain": [
       "<Figure size 640x480 with 1 Axes>"
      ]
     },
     "metadata": {},
     "output_type": "display_data"
    }
   ],
   "source": [
    "# visualize the accuracies after randomundersampling of models wise\n",
    "sns.barplot(final_rus_accuracies['Models'],final_rus_accuracies['Accuracy'])\n",
    "plt.show()"
   ]
  },
  {
   "cell_type": "markdown",
   "id": "fe349728",
   "metadata": {},
   "source": [
    "**Random Over Sampling**"
   ]
  },
  {
   "cell_type": "code",
   "execution_count": 29,
   "id": "ccb14952",
   "metadata": {},
   "outputs": [],
   "source": [
    "x=df.drop('Class',axis=1)\n",
    "y=df['Class']"
   ]
  },
  {
   "cell_type": "code",
   "execution_count": 30,
   "id": "245649b2",
   "metadata": {},
   "outputs": [
    {
     "name": "stdout",
     "output_type": "stream",
     "text": [
      "After over sampling dataset shape\n",
      "==================================\n"
     ]
    },
    {
     "data": {
      "text/plain": [
       "0    21204\n",
       "1    21204\n",
       "Name: Class, dtype: int64"
      ]
     },
     "execution_count": 30,
     "metadata": {},
     "output_type": "execute_result"
    }
   ],
   "source": [
    "# apply the randomOverSampling to the dataset\n",
    "from imblearn.over_sampling import SMOTE\n",
    "ros=SMOTE(random_state=42)\n",
    "x_ros,y_ros=ros.fit_resample(x,y)\n",
    "\n",
    "print('After over sampling dataset shape')\n",
    "print('==================================')\n",
    "y_ros.value_counts()"
   ]
  },
  {
   "cell_type": "code",
   "execution_count": 31,
   "id": "c37e3258",
   "metadata": {},
   "outputs": [],
   "source": [
    "# train_test split\n",
    "from sklearn.model_selection import train_test_split\n",
    "x_train,x_test,y_train,y_test=train_test_split(x_ros,y_ros,test_size=0.2,random_state=42)"
   ]
  },
  {
   "cell_type": "code",
   "execution_count": 32,
   "id": "0aae6a55",
   "metadata": {},
   "outputs": [
    {
     "name": "stdout",
     "output_type": "stream",
     "text": [
      "train accuracy: 0.9785415315687084\n",
      "test accuracy: 0.9758311718934214\n",
      "cross validation score: 0.9683320312008025\n"
     ]
    }
   ],
   "source": [
    "#modeling & evaluation\n",
    "from sklearn.linear_model import LogisticRegression\n",
    "LR=LogisticRegression()\n",
    "LR.fit(x_train,y_train)\n",
    "\n",
    "#prediction\n",
    "ypred_train=LR.predict(x_train)\n",
    "ypred_test1=LR.predict(x_test)\n",
    "\n",
    "# train & test accuracy\n",
    "from sklearn.metrics import accuracy_score\n",
    "print('train accuracy:',accuracy_score(y_train,ypred_train))\n",
    "print('test accuracy:',accuracy_score(y_test,ypred_test1))\n",
    "\n",
    "# cross validation score\n",
    "from sklearn.model_selection import cross_val_score\n",
    "score=cross_val_score(LR,x_ros,y_ros,cv=5)\n",
    "print('cross validation score:',score.mean())"
   ]
  },
  {
   "cell_type": "code",
   "execution_count": 33,
   "id": "3fe2f3ea",
   "metadata": {},
   "outputs": [
    {
     "name": "stdout",
     "output_type": "stream",
     "text": [
      "              precision    recall  f1-score   support\n",
      "\n",
      "           0       0.97      0.98      0.98      4281\n",
      "           1       0.98      0.97      0.98      4201\n",
      "\n",
      "    accuracy                           0.98      8482\n",
      "   macro avg       0.98      0.98      0.98      8482\n",
      "weighted avg       0.98      0.98      0.98      8482\n",
      "\n"
     ]
    }
   ],
   "source": [
    "# classification report\n",
    "from sklearn.metrics import classification_report\n",
    "print(classification_report(y_test,ypred_test1))"
   ]
  },
  {
   "cell_type": "code",
   "execution_count": 34,
   "id": "a67ded53",
   "metadata": {},
   "outputs": [
    {
     "name": "stdout",
     "output_type": "stream",
     "text": [
      "train_accuracy: 1.0\n",
      "test_accuracy: 0.9904503654798397\n",
      "cross validation score: 0.8000826986914257\n"
     ]
    }
   ],
   "source": [
    "#modeling & evaluation\n",
    "from sklearn.tree import DecisionTreeClassifier\n",
    "DT=DecisionTreeClassifier(random_state=0)\n",
    "DT.fit(x_train,y_train)\n",
    "\n",
    "#prediction\n",
    "ypred_train=DT.predict(x_train)\n",
    "ypred_test2=DT.predict(x_test)\n",
    "\n",
    "# train & test accuracy\n",
    "from sklearn.metrics import accuracy_score\n",
    "print('train_accuracy:',accuracy_score(ypred_train,y_train))\n",
    "print('test_accuracy:',accuracy_score(ypred_test2,y_test))\n",
    "\n",
    "# cross validation score\n",
    "from sklearn.model_selection import cross_val_score\n",
    "score=cross_val_score(DT,x_ros,y_ros,cv=5)\n",
    "print('cross validation score:',score.mean())"
   ]
  },
  {
   "cell_type": "code",
   "execution_count": 35,
   "id": "2124a362",
   "metadata": {},
   "outputs": [
    {
     "name": "stdout",
     "output_type": "stream",
     "text": [
      "              precision    recall  f1-score   support\n",
      "\n",
      "           0       0.99      0.99      0.99      4281\n",
      "           1       0.99      0.99      0.99      4201\n",
      "\n",
      "    accuracy                           0.99      8482\n",
      "   macro avg       0.99      0.99      0.99      8482\n",
      "weighted avg       0.99      0.99      0.99      8482\n",
      "\n"
     ]
    }
   ],
   "source": [
    "# classification report\n",
    "from sklearn.metrics import classification_report\n",
    "print(classification_report(y_test,ypred_test2))"
   ]
  },
  {
   "cell_type": "code",
   "execution_count": 36,
   "id": "031bd5c0",
   "metadata": {},
   "outputs": [
    {
     "name": "stdout",
     "output_type": "stream",
     "text": [
      "train_accuracy: 1.0\n",
      "test_accuracy: 0.9991747229427022\n",
      "cross validation score: 0.8212578008053342\n"
     ]
    }
   ],
   "source": [
    "#modeling & evaluation\n",
    "from sklearn.ensemble import RandomForestClassifier\n",
    "RF=RandomForestClassifier()\n",
    "RF.fit(x_train,y_train)\n",
    "\n",
    "#prediction\n",
    "ypred_train=RF.predict(x_train)\n",
    "ypred_test3=RF.predict(x_test)\n",
    "\n",
    "# train & test accuracy\n",
    "from sklearn.metrics import accuracy_score\n",
    "print('train_accuracy:',accuracy_score(ypred_train,y_train))\n",
    "print('test_accuracy:',accuracy_score(ypred_test3,y_test))\n",
    "\n",
    "# cross validation score\n",
    "from sklearn.model_selection import cross_val_score\n",
    "score=cross_val_score(RF,x_ros,y_ros,cv=5)\n",
    "print('cross validation score:',score.mean())"
   ]
  },
  {
   "cell_type": "code",
   "execution_count": 37,
   "id": "dceba0c0",
   "metadata": {},
   "outputs": [
    {
     "name": "stdout",
     "output_type": "stream",
     "text": [
      "              precision    recall  f1-score   support\n",
      "\n",
      "           0       1.00      1.00      1.00      4281\n",
      "           1       1.00      1.00      1.00      4201\n",
      "\n",
      "    accuracy                           1.00      8482\n",
      "   macro avg       1.00      1.00      1.00      8482\n",
      "weighted avg       1.00      1.00      1.00      8482\n",
      "\n"
     ]
    }
   ],
   "source": [
    "# classification report\n",
    "from sklearn.metrics import classification_report\n",
    "print(classification_report(y_test,ypred_test3))"
   ]
  },
  {
   "cell_type": "code",
   "execution_count": 38,
   "id": "20ddbecb",
   "metadata": {},
   "outputs": [
    {
     "name": "stdout",
     "output_type": "stream",
     "text": [
      "train_accuracy: 0.991481459647468\n",
      "test_accuracy: 0.9877387408630041\n",
      "cross validation score: 0.8356191451821748\n"
     ]
    }
   ],
   "source": [
    "#modeling & evaluation\n",
    "from sklearn.ensemble import GradientBoostingClassifier\n",
    "GB=GradientBoostingClassifier()\n",
    "GB.fit(x_train,y_train)\n",
    "\n",
    "#prediction\n",
    "ypred_train=GB.predict(x_train)\n",
    "ypred_test4=GB.predict(x_test)\n",
    "\n",
    "# train & test accuracy\n",
    "from sklearn.metrics import accuracy_score\n",
    "print('train_accuracy:',accuracy_score(ypred_train,y_train))\n",
    "print('test_accuracy:',accuracy_score(ypred_test4,y_test))\n",
    "\n",
    "# cross validation score\n",
    "from sklearn.model_selection import cross_val_score\n",
    "score=cross_val_score(GB,x_ros,y_ros,cv=5)\n",
    "print('cross validation score:',score.mean())"
   ]
  },
  {
   "cell_type": "code",
   "execution_count": 39,
   "id": "d169055e",
   "metadata": {},
   "outputs": [
    {
     "data": {
      "text/html": [
       "<div>\n",
       "<style scoped>\n",
       "    .dataframe tbody tr th:only-of-type {\n",
       "        vertical-align: middle;\n",
       "    }\n",
       "\n",
       "    .dataframe tbody tr th {\n",
       "        vertical-align: top;\n",
       "    }\n",
       "\n",
       "    .dataframe thead th {\n",
       "        text-align: right;\n",
       "    }\n",
       "</style>\n",
       "<table border=\"1\" class=\"dataframe\">\n",
       "  <thead>\n",
       "    <tr style=\"text-align: right;\">\n",
       "      <th></th>\n",
       "      <th>Models</th>\n",
       "      <th>Accuracy</th>\n",
       "    </tr>\n",
       "  </thead>\n",
       "  <tbody>\n",
       "    <tr>\n",
       "      <th>0</th>\n",
       "      <td>LR</td>\n",
       "      <td>97.583117</td>\n",
       "    </tr>\n",
       "    <tr>\n",
       "      <th>1</th>\n",
       "      <td>DT</td>\n",
       "      <td>99.045037</td>\n",
       "    </tr>\n",
       "    <tr>\n",
       "      <th>2</th>\n",
       "      <td>RF</td>\n",
       "      <td>99.917472</td>\n",
       "    </tr>\n",
       "    <tr>\n",
       "      <th>3</th>\n",
       "      <td>GB</td>\n",
       "      <td>98.773874</td>\n",
       "    </tr>\n",
       "  </tbody>\n",
       "</table>\n",
       "</div>"
      ],
      "text/plain": [
       "  Models   Accuracy\n",
       "0     LR  97.583117\n",
       "1     DT  99.045037\n",
       "2     RF  99.917472\n",
       "3     GB  98.773874"
      ]
     },
     "execution_count": 39,
     "metadata": {},
     "output_type": "execute_result"
    }
   ],
   "source": [
    "final_ros_accuracies=pd.DataFrame({'Models':['LR','DT','RF','GB'],\n",
    "                               'Accuracy':[accuracy_score(ypred_test1,y_test)*100,\n",
    "                                          accuracy_score(ypred_test2,y_test)*100,\n",
    "                                          accuracy_score(ypred_test3,y_test)*100,\n",
    "                                          accuracy_score(ypred_test4,y_test)*100,]})\n",
    "final_ros_accuracies"
   ]
  },
  {
   "cell_type": "code",
   "execution_count": 40,
   "id": "c0499b26",
   "metadata": {},
   "outputs": [
    {
     "data": {
      "image/png": "[encoded data removed]",
      "text/plain": [
       "<Figure size 640x480 with 1 Axes>"
      ]
     },
     "metadata": {},
     "output_type": "display_data"
    }
   ],
   "source": [
    "## visualize the accuracies after randomoversampling of models wise\n",
    "sns.barplot(final_ros_accuracies['Models'],final_ros_accuracies['Accuracy'])\n",
    "plt.show()"
   ]
  },
  {
   "cell_type": "code",
   "execution_count": 41,
   "id": "6be4f2b1",
   "metadata": {},
   "outputs": [
    {
     "data": {
      "text/plain": [
       "['credit_card_model.joblib']"
      ]
     },
     "execution_count": 41,
     "metadata": {},
     "output_type": "execute_result"
    }
   ],
   "source": [
    "# save the model\n",
    "from joblib import dump\n",
    "dump(RF,'credit_card_model.joblib')"
   ]
  },
  {
   "cell_type": "code",
   "execution_count": 42,
   "id": "a92eaafb",
   "metadata": {},
   "outputs": [],
   "source": [
    "from joblib import load\n",
    "loaded_model=load('credit_card_model.joblib')"
   ]
  },
  {
   "cell_type": "code",
   "execution_count": 43,
   "id": "99148130",
   "metadata": {},
   "outputs": [],
   "source": [
    "# predict with the new data\n",
    "predict=loaded_model.predict([[-4.595617042,5.08369023,-7.581014617,7.546032795,-6.949164564,-1.72918493,-8.19019172,2.71466961,-7.083169331,-11.14127769,7.381859374,-14.4686551,0.299659909,-13.60221147,0.5161127,-13.56327296,-23.81563583,-9.170557219,3.66952344,1.682160306,2.248971226,0.566843572,0.033744053,0.591783408,0.334228765,0.386801106,2.163897767,0.983103834,-0.349316,0.1233\n",
    "]])"
   ]
  },
  {
   "cell_type": "code",
   "execution_count": 44,
   "id": "bba937b7",
   "metadata": {},
   "outputs": [
    {
     "name": "stdout",
     "output_type": "stream",
     "text": [
      "Normal Transaction\n"
     ]
    }
   ],
   "source": [
    "if predict==0:\n",
    "    print('Normal Transaction')\n",
    "else:\n",
    "    print('Fraudulent Transaction')"
   ]
  },
  {
   "cell_type": "code",
   "execution_count": null,
   "id": "9878233d",
   "metadata": {},
   "outputs": [],
   "source": []
  }
 ],
 "metadata": {
  "kernelspec": {
   "display_name": "Python 3 (ipykernel)",
   "language": "python",
   "name": "python3"
  },
  "language_info": {
   "codemirror_mode": {
    "name": "ipython",
    "version": 3
   },
   "file_extension": ".py",
   "mimetype": "text/x-python",
   "name": "python",
   "nbconvert_exporter": "python",
   "pygments_lexer": "ipython3",
   "version": "3.9.13"
  }
 },
 "nbformat": 4,
 "nbformat_minor": 5
}
